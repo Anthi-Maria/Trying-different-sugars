{
 "cells": [
  {
   "cell_type": "code",
   "execution_count": 88,
   "id": "numerous-miller",
   "metadata": {},
   "outputs": [
    {
     "data": {
      "text/plain": [
       "<optlang.gurobi_interface.Model at 0x7f6c4ae4acd0>"
      ]
     },
     "execution_count": 88,
     "metadata": {},
     "output_type": "execute_result"
    }
   ],
   "source": [
    "import numpy as np\n",
    "import pandas as pd\n",
    "import cobra.test\n",
    "import os\n",
    "\n",
    "from os.path import join\n",
    "\n",
    "from time import time\n",
    "\n",
    "\n",
    "from cobra.flux_analysis import (\n",
    "    single_gene_deletion, single_reaction_deletion, double_gene_deletion,\n",
    "    double_reaction_deletion)\n",
    "\n",
    "a = cobra.io.read_sbml_model(\"iEC1344_C.xml\")\n",
    "\n",
    "import cobra\n",
    "from cobra.test import create_test_model\n",
    "cobra_config = cobra.Configuration()\n",
    "cobra_config.solver = \"gurobi\"\n",
    "model = create_test_model(\"textbook\")\n",
    "model.solver\n"
   ]
  },
  {
   "cell_type": "code",
   "execution_count": 62,
   "id": "brutal-antenna",
   "metadata": {},
   "outputs": [
    {
     "data": {
      "text/html": [
       "\n",
       "        <table>\n",
       "            <tr>\n",
       "                <td><strong>Reaction identifier</strong></td><td>EX_glc__D_e</td>\n",
       "            </tr><tr>\n",
       "                <td><strong>Name</strong></td><td>D-Glucose exchange</td>\n",
       "            </tr><tr>\n",
       "                <td><strong>Memory address</strong></td>\n",
       "                <td>0x07f6c4a928460</td>\n",
       "            </tr><tr>\n",
       "                <td><strong>Stoichiometry</strong></td>\n",
       "                <td>\n",
       "                    <p style='text-align:right'>glc__D_e <=></p>\n",
       "                    <p style='text-align:right'>D-Glucose <=></p>\n",
       "                </td>\n",
       "            </tr><tr>\n",
       "                <td><strong>GPR</strong></td><td></td>\n",
       "            </tr><tr>\n",
       "                <td><strong>Lower bound</strong></td><td>-10.0</td>\n",
       "            </tr><tr>\n",
       "                <td><strong>Upper bound</strong></td><td>1000.0</td>\n",
       "            </tr>\n",
       "        </table>\n",
       "        "
      ],
      "text/plain": [
       "<Reaction EX_glc__D_e at 0x7f6c4a928460>"
      ]
     },
     "execution_count": 62,
     "metadata": {},
     "output_type": "execute_result"
    }
   ],
   "source": [
    "a.reactions.EX_glc__D_e"
   ]
  },
  {
   "cell_type": "code",
   "execution_count": 63,
   "id": "concerned-grace",
   "metadata": {},
   "outputs": [
    {
     "data": {
      "text/html": [
       "\n",
       "        <table>\n",
       "            <tr>\n",
       "                <td><strong>Reaction identifier</strong></td><td>EX_rib__D_e</td>\n",
       "            </tr><tr>\n",
       "                <td><strong>Name</strong></td><td>D-Ribose exchange</td>\n",
       "            </tr><tr>\n",
       "                <td><strong>Memory address</strong></td>\n",
       "                <td>0x07f6c4a8e4d60</td>\n",
       "            </tr><tr>\n",
       "                <td><strong>Stoichiometry</strong></td>\n",
       "                <td>\n",
       "                    <p style='text-align:right'>rib__D_e --></p>\n",
       "                    <p style='text-align:right'>D-Ribose --></p>\n",
       "                </td>\n",
       "            </tr><tr>\n",
       "                <td><strong>GPR</strong></td><td></td>\n",
       "            </tr><tr>\n",
       "                <td><strong>Lower bound</strong></td><td>0.0</td>\n",
       "            </tr><tr>\n",
       "                <td><strong>Upper bound</strong></td><td>1000.0</td>\n",
       "            </tr>\n",
       "        </table>\n",
       "        "
      ],
      "text/plain": [
       "<Reaction EX_rib__D_e at 0x7f6c4a8e4d60>"
      ]
     },
     "execution_count": 63,
     "metadata": {},
     "output_type": "execute_result"
    }
   ],
   "source": [
    "a.reactions.EX_rib__D_e"
   ]
  },
  {
   "cell_type": "code",
   "execution_count": 64,
   "id": "induced-nigeria",
   "metadata": {},
   "outputs": [
    {
     "data": {
      "text/html": [
       "\n",
       "        <table>\n",
       "            <tr>\n",
       "                <td><strong>Reaction identifier</strong></td><td>EX_xyl__D_e</td>\n",
       "            </tr><tr>\n",
       "                <td><strong>Name</strong></td><td>D-Xylose exchange</td>\n",
       "            </tr><tr>\n",
       "                <td><strong>Memory address</strong></td>\n",
       "                <td>0x07f6c4a8d78b0</td>\n",
       "            </tr><tr>\n",
       "                <td><strong>Stoichiometry</strong></td>\n",
       "                <td>\n",
       "                    <p style='text-align:right'>xyl__D_e --></p>\n",
       "                    <p style='text-align:right'>D-Xylose --></p>\n",
       "                </td>\n",
       "            </tr><tr>\n",
       "                <td><strong>GPR</strong></td><td></td>\n",
       "            </tr><tr>\n",
       "                <td><strong>Lower bound</strong></td><td>0.0</td>\n",
       "            </tr><tr>\n",
       "                <td><strong>Upper bound</strong></td><td>1000.0</td>\n",
       "            </tr>\n",
       "        </table>\n",
       "        "
      ],
      "text/plain": [
       "<Reaction EX_xyl__D_e at 0x7f6c4a8d78b0>"
      ]
     },
     "execution_count": 64,
     "metadata": {},
     "output_type": "execute_result"
    }
   ],
   "source": [
    "a.reactions.EX_xyl__D_e"
   ]
  },
  {
   "cell_type": "code",
   "execution_count": 65,
   "id": "digital-measure",
   "metadata": {},
   "outputs": [
    {
     "data": {
      "text/html": [
       "\n",
       "        <table>\n",
       "            <tr>\n",
       "                <td><strong>Reaction identifier</strong></td><td>EX_arab__L_e</td>\n",
       "            </tr><tr>\n",
       "                <td><strong>Name</strong></td><td>L-Arabinose exchange</td>\n",
       "            </tr><tr>\n",
       "                <td><strong>Memory address</strong></td>\n",
       "                <td>0x07f6c4a949bb0</td>\n",
       "            </tr><tr>\n",
       "                <td><strong>Stoichiometry</strong></td>\n",
       "                <td>\n",
       "                    <p style='text-align:right'>arab__L_e --></p>\n",
       "                    <p style='text-align:right'>L-Arabinose --></p>\n",
       "                </td>\n",
       "            </tr><tr>\n",
       "                <td><strong>GPR</strong></td><td></td>\n",
       "            </tr><tr>\n",
       "                <td><strong>Lower bound</strong></td><td>0.0</td>\n",
       "            </tr><tr>\n",
       "                <td><strong>Upper bound</strong></td><td>1000.0</td>\n",
       "            </tr>\n",
       "        </table>\n",
       "        "
      ],
      "text/plain": [
       "<Reaction EX_arab__L_e at 0x7f6c4a949bb0>"
      ]
     },
     "execution_count": 65,
     "metadata": {},
     "output_type": "execute_result"
    }
   ],
   "source": [
    "a.reactions.EX_arab__L_e"
   ]
  },
  {
   "cell_type": "code",
   "execution_count": 67,
   "id": "sunset-adventure",
   "metadata": {},
   "outputs": [],
   "source": [
    "a.reactions.EX_rib__D_e.lower_bound= -10\n",
    "a.reactions.EX_rib__D_e.upper_bound= 1000\n",
    "\n",
    "a.reactions.EX_glc__D_e.lower_bound= 0\n",
    "a.reactions.EX_glc__D_e.upper_bound= 0\n"
   ]
  },
  {
   "cell_type": "code",
   "execution_count": 68,
   "id": "australian-balloon",
   "metadata": {},
   "outputs": [
    {
     "name": "stdout",
     "output_type": "stream",
     "text": [
      "<Solution 0.775 at 0x7f6c4cc47100>\n"
     ]
    },
    {
     "data": {
      "text/plain": [
       "0.775008474879435"
      ]
     },
     "execution_count": 68,
     "metadata": {},
     "output_type": "execute_result"
    }
   ],
   "source": [
    "solution = a.optimize()\n",
    "print(solution)\n",
    "\n",
    "solution.objective_value\n"
   ]
  },
  {
   "cell_type": "code",
   "execution_count": 72,
   "id": "improving-bloom",
   "metadata": {},
   "outputs": [],
   "source": [
    "a.reactions.EX_xyl__D_e.lower_bound= -10\n",
    "a.reactions.EX_xyl__D_e.upper_bound= 1000\n",
    "\n",
    "a.reactions.EX_glc__D_e.lower_bound= 0\n",
    "a.reactions.EX_glc__D_e.upper_bound= 0\n"
   ]
  },
  {
   "cell_type": "code",
   "execution_count": 73,
   "id": "amateur-savannah",
   "metadata": {},
   "outputs": [
    {
     "name": "stdout",
     "output_type": "stream",
     "text": [
      "<Solution 0.806 at 0x7f6c4bce2880>\n"
     ]
    },
    {
     "data": {
      "text/plain": [
       "0.8061166555676651"
      ]
     },
     "execution_count": 73,
     "metadata": {},
     "output_type": "execute_result"
    }
   ],
   "source": [
    "solution = a.optimize()\n",
    "print(solution)\n",
    "\n",
    "solution.objective_value\n"
   ]
  },
  {
   "cell_type": "code",
   "execution_count": 75,
   "id": "voluntary-fellow",
   "metadata": {},
   "outputs": [],
   "source": [
    "a.reactions.EX_arab__L_e.lower_bound= -10\n",
    "a.reactions.EX_arab__L_e.upper_bound= 1000\n",
    "\n",
    "a.reactions.EX_glc__D_e.lower_bound= 0\n",
    "a.reactions.EX_glc__D_e.upper_bound= 0\n"
   ]
  },
  {
   "cell_type": "code",
   "execution_count": 76,
   "id": "external-terminal",
   "metadata": {},
   "outputs": [
    {
     "name": "stdout",
     "output_type": "stream",
     "text": [
      "<Solution 0.806 at 0x7f6c49c3ba00>\n"
     ]
    },
    {
     "data": {
      "text/plain": [
       "0.8061166555676648"
      ]
     },
     "execution_count": 76,
     "metadata": {},
     "output_type": "execute_result"
    }
   ],
   "source": [
    "solution = a.optimize()\n",
    "print(solution)\n",
    "\n",
    "solution.objective_value\n"
   ]
  },
  {
   "cell_type": "code",
   "execution_count": 78,
   "id": "saving-blank",
   "metadata": {},
   "outputs": [],
   "source": [
    "a.reactions.EX_rmn_e.lower_bound= -10\n",
    "a.reactions.EX_rmn_e.upper_bound= 1000\n",
    "\n",
    "a.reactions.EX_glc__D_e.lower_bound= 0\n",
    "a.reactions.EX_glc__D_e.upper_bound= 0\n"
   ]
  },
  {
   "cell_type": "code",
   "execution_count": 79,
   "id": "tracked-cricket",
   "metadata": {},
   "outputs": [
    {
     "name": "stdout",
     "output_type": "stream",
     "text": [
      "<Solution 0.963 at 0x7f6c48a744f0>\n"
     ]
    },
    {
     "data": {
      "text/plain": [
       "0.9633370943674637"
      ]
     },
     "execution_count": 79,
     "metadata": {},
     "output_type": "execute_result"
    }
   ],
   "source": [
    "solution = a.optimize()\n",
    "print(solution)\n",
    "\n",
    "solution.objective_value\n"
   ]
  },
  {
   "cell_type": "code",
   "execution_count": 26,
   "id": "hearing-dominant",
   "metadata": {},
   "outputs": [],
   "source": [
    "a.reactions.EX_fuc__L_e.lower_bound= -10\n",
    "a.reactions.EX_fuc__L_e.upper_bound= 1000\n",
    "\n",
    "a.reactions.EX_glc__D_e.lower_bound= 0\n",
    "a.reactions.EX_glc__D_e.upper_bound= 0\n"
   ]
  },
  {
   "cell_type": "code",
   "execution_count": 27,
   "id": "proper-renaissance",
   "metadata": {},
   "outputs": [
    {
     "name": "stdout",
     "output_type": "stream",
     "text": [
      "<Solution infeasible at 0x7f6c518cdfd0>\n"
     ]
    },
    {
     "name": "stderr",
     "output_type": "stream",
     "text": [
      "/home/schwartzlab/miniconda3/lib/python3.8/site-packages/cobra/util/solver.py:508: UserWarning: Solver status is 'infeasible'.\n",
      "  warn(f\"Solver status is '{status}'.\", UserWarning)\n"
     ]
    }
   ],
   "source": [
    "solution = a.optimize()\n",
    "print(solution)\n",
    "\n",
    "solution.objective_value\n"
   ]
  },
  {
   "cell_type": "code",
   "execution_count": 30,
   "id": "lesbian-rubber",
   "metadata": {},
   "outputs": [],
   "source": [
    "a.reactions.EX_ac_e.lower_bound= -10\n",
    "a.reactions.EX_ac_e.upper_bound= 1000\n",
    "\n",
    "a.reactions.EX_glc__D_e.lower_bound= 0\n",
    "a.reactions.EX_glc__D_e.upper_bound= 0\n"
   ]
  },
  {
   "cell_type": "code",
   "execution_count": 31,
   "id": "personalized-generator",
   "metadata": {},
   "outputs": [
    {
     "name": "stdout",
     "output_type": "stream",
     "text": [
      "<Solution 0.247 at 0x7f6c50747bb0>\n"
     ]
    },
    {
     "data": {
      "text/plain": [
       "0.2472053934006502"
      ]
     },
     "execution_count": 31,
     "metadata": {},
     "output_type": "execute_result"
    }
   ],
   "source": [
    "solution = a.optimize()\n",
    "print(solution)\n",
    "\n",
    "solution.objective_value\n"
   ]
  },
  {
   "cell_type": "code",
   "execution_count": 34,
   "id": "corrected-migration",
   "metadata": {},
   "outputs": [],
   "source": [
    "a.reactions.EX_glyclt_e.lower_bound= -10\n",
    "a.reactions.EX_glyclt_e.upper_bound= 1000\n",
    "\n",
    "a.reactions.EX_glc__D_e.lower_bound= 0\n",
    "a.reactions.EX_glc__D_e.upper_bound= 0\n"
   ]
  },
  {
   "cell_type": "code",
   "execution_count": 35,
   "id": "curious-replacement",
   "metadata": {},
   "outputs": [
    {
     "name": "stdout",
     "output_type": "stream",
     "text": [
      "<Solution 0.185 at 0x7f6c50265df0>\n"
     ]
    },
    {
     "data": {
      "text/plain": [
       "0.18498822802801404"
      ]
     },
     "execution_count": 35,
     "metadata": {},
     "output_type": "execute_result"
    }
   ],
   "source": [
    "solution = a.optimize()\n",
    "print(solution)\n",
    "\n",
    "solution.objective_value\n"
   ]
  },
  {
   "cell_type": "code",
   "execution_count": 81,
   "id": "prescription-lighter",
   "metadata": {},
   "outputs": [],
   "source": [
    "a.reactions.EX_fru_e.lower_bound= -10\n",
    "a.reactions.EX_fru_e.upper_bound= 1000\n",
    "\n",
    "a.reactions.EX_glc__D_e.lower_bound= 0\n",
    "a.reactions.EX_glc__D_e.upper_bound= 0\n"
   ]
  },
  {
   "cell_type": "code",
   "execution_count": 82,
   "id": "ruled-welcome",
   "metadata": {},
   "outputs": [
    {
     "name": "stdout",
     "output_type": "stream",
     "text": [
      "<Solution 0.982 at 0x7f6c4af6d580>\n"
     ]
    },
    {
     "data": {
      "text/plain": [
       "0.9823963461343014"
      ]
     },
     "execution_count": 82,
     "metadata": {},
     "output_type": "execute_result"
    }
   ],
   "source": [
    "solution = a.optimize()\n",
    "print(solution)\n",
    "\n",
    "solution.objective_value\n"
   ]
  },
  {
   "cell_type": "code",
   "execution_count": 50,
   "id": "dense-failing",
   "metadata": {},
   "outputs": [],
   "source": [
    "a.reactions.EX_glyc_e.lower_bound= -10\n",
    "a.reactions.EX_glyc_e.upper_bound= 1000\n",
    "\n",
    "a.reactions.EX_glc__D_e.lower_bound= 0\n",
    "a.reactions.EX_glc__D_e.upper_bound= 0\n"
   ]
  },
  {
   "cell_type": "code",
   "execution_count": 51,
   "id": "abroad-screen",
   "metadata": {},
   "outputs": [
    {
     "name": "stdout",
     "output_type": "stream",
     "text": [
      "<Solution 0.563 at 0x7f6c4ed11b20>\n"
     ]
    },
    {
     "data": {
      "text/plain": [
       "0.5628042282194686"
      ]
     },
     "execution_count": 51,
     "metadata": {},
     "output_type": "execute_result"
    }
   ],
   "source": [
    "solution = a.optimize()\n",
    "print(solution)\n",
    "\n",
    "solution.objective_value\n"
   ]
  },
  {
   "cell_type": "code",
   "execution_count": 85,
   "id": "lesbian-athletics",
   "metadata": {},
   "outputs": [],
   "source": [
    "a.reactions.EX_sbt__D_e.lower_bound= -10\n",
    "a.reactions.EX_sbt__D_e.upper_bound= 1000\n",
    "\n",
    "a.reactions.EX_glc__D_e.lower_bound= 0\n",
    "a.reactions.EX_glc__D_e.upper_bound= 0\n"
   ]
  },
  {
   "cell_type": "code",
   "execution_count": 86,
   "id": "joined-shannon",
   "metadata": {},
   "outputs": [
    {
     "name": "stdout",
     "output_type": "stream",
     "text": [
      "<Solution 1.055 at 0x7f6c4692cd90>\n"
     ]
    },
    {
     "data": {
      "text/plain": [
       "1.0548484703018333"
      ]
     },
     "execution_count": 86,
     "metadata": {},
     "output_type": "execute_result"
    }
   ],
   "source": [
    "solution = a.optimize()\n",
    "print(solution)\n",
    "\n",
    "solution.objective_value\n"
   ]
  },
  {
   "cell_type": "code",
   "execution_count": 58,
   "id": "future-benchmark",
   "metadata": {},
   "outputs": [],
   "source": [
    "a.reactions.EX_etoh_e.lower_bound= -10\n",
    "a.reactions.EX_etoh_e.upper_bound= 1000\n",
    "\n",
    "a.reactions.EX_glc__D_e.lower_bound= 0\n",
    "a.reactions.EX_glc__D_e.upper_bound= 0\n"
   ]
  },
  {
   "cell_type": "code",
   "execution_count": 59,
   "id": "deluxe-breach",
   "metadata": {},
   "outputs": [
    {
     "name": "stdout",
     "output_type": "stream",
     "text": [
      "<Solution 0.422 at 0x7f6c4c80a1c0>\n"
     ]
    },
    {
     "data": {
      "text/plain": [
       "0.42192621389869256"
      ]
     },
     "execution_count": 59,
     "metadata": {},
     "output_type": "execute_result"
    }
   ],
   "source": [
    "solution = a.optimize()\n",
    "print(solution)\n",
    "\n",
    "solution.objective_value\n"
   ]
  },
  {
   "cell_type": "code",
   "execution_count": 60,
   "id": "saved-newcastle",
   "metadata": {
    "scrolled": true
   },
   "outputs": [
    {
     "data": {
      "text/html": [
       "<h3>Objective</h3><p>1.0 BIOMASS_Ec_iJO1366_core_53p95M = 0.42192621389869256</p><h4>Uptake</h4><table border=\"1\" class=\"dataframe\">\n",
       "  <thead>\n",
       "    <tr style=\"text-align: right;\">\n",
       "      <th>Metabolite</th>\n",
       "      <th>Reaction</th>\n",
       "      <th>Flux</th>\n",
       "      <th>C-Number</th>\n",
       "      <th>C-Flux</th>\n",
       "    </tr>\n",
       "  </thead>\n",
       "  <tbody>\n",
       "    <tr>\n",
       "      <td>ca2_e</td>\n",
       "      <td>EX_ca2_e</td>\n",
       "      <td>0.002196</td>\n",
       "      <td>0</td>\n",
       "      <td>0.00%</td>\n",
       "    </tr>\n",
       "    <tr>\n",
       "      <td>cl_e</td>\n",
       "      <td>EX_cl_e</td>\n",
       "      <td>0.002196</td>\n",
       "      <td>0</td>\n",
       "      <td>0.00%</td>\n",
       "    </tr>\n",
       "    <tr>\n",
       "      <td>cobalt2_e</td>\n",
       "      <td>EX_cobalt2_e</td>\n",
       "      <td>1.055E-05</td>\n",
       "      <td>0</td>\n",
       "      <td>0.00%</td>\n",
       "    </tr>\n",
       "    <tr>\n",
       "      <td>cu2_e</td>\n",
       "      <td>EX_cu2_e</td>\n",
       "      <td>0.0002991</td>\n",
       "      <td>0</td>\n",
       "      <td>0.00%</td>\n",
       "    </tr>\n",
       "    <tr>\n",
       "      <td>etoh_e</td>\n",
       "      <td>EX_etoh_e</td>\n",
       "      <td>10</td>\n",
       "      <td>2</td>\n",
       "      <td>100.00%</td>\n",
       "    </tr>\n",
       "    <tr>\n",
       "      <td>fe2_e</td>\n",
       "      <td>EX_fe2_e</td>\n",
       "      <td>0.006777</td>\n",
       "      <td>0</td>\n",
       "      <td>0.00%</td>\n",
       "    </tr>\n",
       "    <tr>\n",
       "      <td>k_e</td>\n",
       "      <td>EX_k_e</td>\n",
       "      <td>0.08236</td>\n",
       "      <td>0</td>\n",
       "      <td>0.00%</td>\n",
       "    </tr>\n",
       "    <tr>\n",
       "      <td>mg2_e</td>\n",
       "      <td>EX_mg2_e</td>\n",
       "      <td>0.00366</td>\n",
       "      <td>0</td>\n",
       "      <td>0.00%</td>\n",
       "    </tr>\n",
       "    <tr>\n",
       "      <td>mn2_e</td>\n",
       "      <td>EX_mn2_e</td>\n",
       "      <td>0.0002916</td>\n",
       "      <td>0</td>\n",
       "      <td>0.00%</td>\n",
       "    </tr>\n",
       "    <tr>\n",
       "      <td>mobd_e</td>\n",
       "      <td>EX_mobd_e</td>\n",
       "      <td>5.443E-05</td>\n",
       "      <td>0</td>\n",
       "      <td>0.00%</td>\n",
       "    </tr>\n",
       "    <tr>\n",
       "      <td>nh4_e</td>\n",
       "      <td>EX_nh4_e</td>\n",
       "      <td>4.557</td>\n",
       "      <td>0</td>\n",
       "      <td>0.00%</td>\n",
       "    </tr>\n",
       "    <tr>\n",
       "      <td>ni2_e</td>\n",
       "      <td>EX_ni2_e</td>\n",
       "      <td>0.0001363</td>\n",
       "      <td>0</td>\n",
       "      <td>0.00%</td>\n",
       "    </tr>\n",
       "    <tr>\n",
       "      <td>o2_e</td>\n",
       "      <td>EX_o2_e</td>\n",
       "      <td>11.78</td>\n",
       "      <td>0</td>\n",
       "      <td>0.00%</td>\n",
       "    </tr>\n",
       "    <tr>\n",
       "      <td>pi_e</td>\n",
       "      <td>EX_pi_e</td>\n",
       "      <td>0.407</td>\n",
       "      <td>0</td>\n",
       "      <td>0.00%</td>\n",
       "    </tr>\n",
       "    <tr>\n",
       "      <td>so4_e</td>\n",
       "      <td>EX_so4_e</td>\n",
       "      <td>0.1064</td>\n",
       "      <td>0</td>\n",
       "      <td>0.00%</td>\n",
       "    </tr>\n",
       "    <tr>\n",
       "      <td>zn2_e</td>\n",
       "      <td>EX_zn2_e</td>\n",
       "      <td>0.0001439</td>\n",
       "      <td>0</td>\n",
       "      <td>0.00%</td>\n",
       "    </tr>\n",
       "  </tbody>\n",
       "</table><h4>Secretion</h4><table border=\"1\" class=\"dataframe\">\n",
       "  <thead>\n",
       "    <tr style=\"text-align: right;\">\n",
       "      <th>Metabolite</th>\n",
       "      <th>Reaction</th>\n",
       "      <th>Flux</th>\n",
       "      <th>C-Number</th>\n",
       "      <th>C-Flux</th>\n",
       "    </tr>\n",
       "  </thead>\n",
       "  <tbody>\n",
       "    <tr>\n",
       "      <td>4hba_c</td>\n",
       "      <td>DM_4hba_c</td>\n",
       "      <td>-9.409E-05</td>\n",
       "      <td>7</td>\n",
       "      <td>0.02%</td>\n",
       "    </tr>\n",
       "    <tr>\n",
       "      <td>5drib_c</td>\n",
       "      <td>DM_5drib_c</td>\n",
       "      <td>-8.439E-07</td>\n",
       "      <td>5</td>\n",
       "      <td>0.00%</td>\n",
       "    </tr>\n",
       "    <tr>\n",
       "      <td>amob_c</td>\n",
       "      <td>DM_amob_c</td>\n",
       "      <td>-8.439E-07</td>\n",
       "      <td>15</td>\n",
       "      <td>0.00%</td>\n",
       "    </tr>\n",
       "    <tr>\n",
       "      <td>mththf_c</td>\n",
       "      <td>DM_mththf_c</td>\n",
       "      <td>-0.000189</td>\n",
       "      <td>5</td>\n",
       "      <td>0.04%</td>\n",
       "    </tr>\n",
       "    <tr>\n",
       "      <td>co2_e</td>\n",
       "      <td>EX_co2_e</td>\n",
       "      <td>-2.681</td>\n",
       "      <td>1</td>\n",
       "      <td>99.94%</td>\n",
       "    </tr>\n",
       "    <tr>\n",
       "      <td>h2o_e</td>\n",
       "      <td>EX_h2o_e</td>\n",
       "      <td>-23.82</td>\n",
       "      <td>0</td>\n",
       "      <td>0.00%</td>\n",
       "    </tr>\n",
       "    <tr>\n",
       "      <td>h_e</td>\n",
       "      <td>EX_h_e</td>\n",
       "      <td>-3.877</td>\n",
       "      <td>0</td>\n",
       "      <td>0.00%</td>\n",
       "    </tr>\n",
       "    <tr>\n",
       "      <td>meoh_e</td>\n",
       "      <td>EX_meoh_e</td>\n",
       "      <td>-8.439E-07</td>\n",
       "      <td>1</td>\n",
       "      <td>0.00%</td>\n",
       "    </tr>\n",
       "  </tbody>\n",
       "</table>"
      ],
      "text/plain": [
       "<cobra.summary.model_summary.ModelSummary at 0x7f6c4b7a81c0>"
      ]
     },
     "execution_count": 60,
     "metadata": {},
     "output_type": "execute_result"
    }
   ],
   "source": [
    "a.summary()"
   ]
  },
  {
   "cell_type": "code",
   "execution_count": 89,
   "id": "patent-blowing",
   "metadata": {},
   "outputs": [],
   "source": [
    "a.reactions.EX_lcts_e.lower_bound= -10\n",
    "a.reactions.EX_lcts_e.upper_bound= 1000\n",
    "\n",
    "a.reactions.EX_glc__D_e.lower_bound= 0\n",
    "a.reactions.EX_glc__D_e.upper_bound= 0\n"
   ]
  },
  {
   "cell_type": "code",
   "execution_count": 90,
   "id": "precious-decision",
   "metadata": {},
   "outputs": [
    {
     "name": "stdout",
     "output_type": "stream",
     "text": [
      "<Solution 1.967 at 0x7f6c476727c0>\n"
     ]
    },
    {
     "data": {
      "text/plain": [
       "1.9674887345949097"
      ]
     },
     "execution_count": 90,
     "metadata": {},
     "output_type": "execute_result"
    }
   ],
   "source": [
    "solution = a.optimize()\n",
    "print(solution)\n",
    "\n",
    "solution.objective_value\n"
   ]
  },
  {
   "cell_type": "code",
   "execution_count": null,
   "id": "infrared-pickup",
   "metadata": {},
   "outputs": [],
   "source": []
  }
 ],
 "metadata": {
  "kernelspec": {
   "display_name": "Python 3",
   "language": "python",
   "name": "python3"
  },
  "language_info": {
   "codemirror_mode": {
    "name": "ipython",
    "version": 3
   },
   "file_extension": ".py",
   "mimetype": "text/x-python",
   "name": "python",
   "nbconvert_exporter": "python",
   "pygments_lexer": "ipython3",
   "version": "3.8.3"
  }
 },
 "nbformat": 4,
 "nbformat_minor": 5
}
